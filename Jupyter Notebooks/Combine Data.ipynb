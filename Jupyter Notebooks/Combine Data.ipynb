{
 "cells": [
  {
   "cell_type": "markdown",
   "metadata": {},
   "source": [
    "# Combine Data"
   ]
  },
  {
   "cell_type": "markdown",
   "metadata": {},
   "source": [
    "Jupyter Notebook to combine different csv files into a single one."
   ]
  },
  {
   "cell_type": "markdown",
   "metadata": {},
   "source": [
    "## Combining the datasets together"
   ]
  },
  {
   "cell_type": "code",
   "execution_count": 157,
   "metadata": {},
   "outputs": [
    {
     "name": "stdout",
     "output_type": "stream",
     "text": [
      "['1.csv', '10.csv', '11.csv', '12.csv', '13.csv', '14.csv', '15.csv', '16.csv', '2.csv', '3.csv', '4.csv', '5.csv', '6.csv', '7.csv', '8.csv', '9.csv']\n"
     ]
    }
   ],
   "source": [
    "import pandas as pd\n",
    "import glob\n",
    "\n",
    "all_files = glob.glob(\"*.csv\")\n",
    "\n",
    "print(all_files)"
   ]
  },
  {
   "cell_type": "code",
   "execution_count": 158,
   "metadata": {},
   "outputs": [],
   "source": [
    "df = pd.concat((pd.read_csv(file) for file in all_files)) # Combine all the csv files into a single file\n"
   ]
  },
  {
   "cell_type": "markdown",
   "metadata": {},
   "source": [
    "## Sorting the data (On the basis of time)"
   ]
  },
  {
   "cell_type": "code",
   "execution_count": 159,
   "metadata": {},
   "outputs": [],
   "source": [
    "result = df['date'].str.split(\" \", n = 1, expand = True) #Split the date \n",
    "  \n",
    "df[\"date\"]= result[0] \n",
    "  \n",
    "df.insert(1, \"time\", result[1])"
   ]
  },
  {
   "cell_type": "code",
   "execution_count": 160,
   "metadata": {},
   "outputs": [],
   "source": [
    "\n",
    "df.sort_values(['date','time'],inplace=True) # Sort the data\n",
    "df.reset_index(drop=True,inplace=True) # Reset the index"
   ]
  },
  {
   "cell_type": "markdown",
   "metadata": {},
   "source": [
    "## Remove unnecessary columns"
   ]
  },
  {
   "cell_type": "code",
   "execution_count": 161,
   "metadata": {},
   "outputs": [],
   "source": [
    "df.drop(['geo'], axis = 1,inplace=True) "
   ]
  },
  {
   "cell_type": "code",
   "execution_count": 162,
   "metadata": {},
   "outputs": [
    {
     "data": {
      "text/html": [
       "<div>\n",
       "<style scoped>\n",
       "    .dataframe tbody tr th:only-of-type {\n",
       "        vertical-align: middle;\n",
       "    }\n",
       "\n",
       "    .dataframe tbody tr th {\n",
       "        vertical-align: top;\n",
       "    }\n",
       "\n",
       "    .dataframe thead th {\n",
       "        text-align: right;\n",
       "    }\n",
       "</style>\n",
       "<table border=\"1\" class=\"dataframe\">\n",
       "  <thead>\n",
       "    <tr style=\"text-align: right;\">\n",
       "      <th></th>\n",
       "      <th>date</th>\n",
       "      <th>time</th>\n",
       "      <th>username</th>\n",
       "      <th>to</th>\n",
       "      <th>replies</th>\n",
       "      <th>retweets</th>\n",
       "      <th>favorites</th>\n",
       "      <th>text</th>\n",
       "      <th>mentions</th>\n",
       "      <th>hashtags</th>\n",
       "      <th>id</th>\n",
       "      <th>permalink</th>\n",
       "    </tr>\n",
       "  </thead>\n",
       "  <tbody>\n",
       "    <tr>\n",
       "      <th>67321</th>\n",
       "      <td>2020-03-30</td>\n",
       "      <td>18:10:15</td>\n",
       "      <td>rajat_patni27</td>\n",
       "      <td>NaN</td>\n",
       "      <td>0</td>\n",
       "      <td>0</td>\n",
       "      <td>0</td>\n",
       "      <td>Telangana is role model for other states. Hist...</td>\n",
       "      <td>@TelanganaCMO</td>\n",
       "      <td>#COVID19 #lockdown</td>\n",
       "      <td>1244688404765270017</td>\n",
       "      <td>https://twitter.com/rajat_patni27/status/12446...</td>\n",
       "    </tr>\n",
       "    <tr>\n",
       "      <th>42859</th>\n",
       "      <td>2020-03-28</td>\n",
       "      <td>15:15:40</td>\n",
       "      <td>iamvivekrk</td>\n",
       "      <td>NaN</td>\n",
       "      <td>0</td>\n",
       "      <td>1</td>\n",
       "      <td>1</td>\n",
       "      <td>Coronavirus: The fake health advice you should...</td>\n",
       "      <td>NaN</td>\n",
       "      <td>NaN</td>\n",
       "      <td>1243919692013563904</td>\n",
       "      <td>https://twitter.com/iamvivekrk/status/12439196...</td>\n",
       "    </tr>\n",
       "    <tr>\n",
       "      <th>125967</th>\n",
       "      <td>2020-04-05</td>\n",
       "      <td>18:33:16</td>\n",
       "      <td>sidnaazDilse</td>\n",
       "      <td>DrSakshiSingla</td>\n",
       "      <td>0</td>\n",
       "      <td>0</td>\n",
       "      <td>1</td>\n",
       "      <td>#GharBaithoIndia Go corona Go #IndiaFightsCorona</td>\n",
       "      <td>NaN</td>\n",
       "      <td>#GharBaithoIndia #IndiaFightsCorona</td>\n",
       "      <td>1246868523172810758</td>\n",
       "      <td>https://twitter.com/sidnaazDilse/status/124686...</td>\n",
       "    </tr>\n",
       "    <tr>\n",
       "      <th>64665</th>\n",
       "      <td>2020-03-30</td>\n",
       "      <td>13:50:34</td>\n",
       "      <td>Suhailxu</td>\n",
       "      <td>NaN</td>\n",
       "      <td>0</td>\n",
       "      <td>0</td>\n",
       "      <td>0</td>\n",
       "      <td>Go corona go.... – at Clock Tower</td>\n",
       "      <td>NaN</td>\n",
       "      <td>NaN</td>\n",
       "      <td>1244623052777938945</td>\n",
       "      <td>https://twitter.com/Suhailxu/status/1244623052...</td>\n",
       "    </tr>\n",
       "    <tr>\n",
       "      <th>95047</th>\n",
       "      <td>2020-04-02</td>\n",
       "      <td>14:51:29</td>\n",
       "      <td>sanjudu84045113</td>\n",
       "      <td>NaN</td>\n",
       "      <td>0</td>\n",
       "      <td>0</td>\n",
       "      <td>0</td>\n",
       "      <td>The whole contry is under lockdown but E.C.L i...</td>\n",
       "      <td>@MamataOfficial @CoalIndiaHQ @PMOIndia</td>\n",
       "      <td>NaN</td>\n",
       "      <td>1245725547121917955</td>\n",
       "      <td>https://twitter.com/sanjudu84045113/status/124...</td>\n",
       "    </tr>\n",
       "  </tbody>\n",
       "</table>\n",
       "</div>"
      ],
      "text/plain": [
       "              date      time         username              to  replies  \\\n",
       "67321   2020-03-30  18:10:15    rajat_patni27             NaN        0   \n",
       "42859   2020-03-28  15:15:40       iamvivekrk             NaN        0   \n",
       "125967  2020-04-05  18:33:16     sidnaazDilse  DrSakshiSingla        0   \n",
       "64665   2020-03-30  13:50:34         Suhailxu             NaN        0   \n",
       "95047   2020-04-02  14:51:29  sanjudu84045113             NaN        0   \n",
       "\n",
       "        retweets  favorites  \\\n",
       "67321          0          0   \n",
       "42859          1          1   \n",
       "125967         0          1   \n",
       "64665          0          0   \n",
       "95047          0          0   \n",
       "\n",
       "                                                     text  \\\n",
       "67321   Telangana is role model for other states. Hist...   \n",
       "42859   Coronavirus: The fake health advice you should...   \n",
       "125967   #GharBaithoIndia Go corona Go #IndiaFightsCorona   \n",
       "64665                   Go corona go.... – at Clock Tower   \n",
       "95047   The whole contry is under lockdown but E.C.L i...   \n",
       "\n",
       "                                      mentions  \\\n",
       "67321                            @TelanganaCMO   \n",
       "42859                                      NaN   \n",
       "125967                                     NaN   \n",
       "64665                                      NaN   \n",
       "95047   @MamataOfficial @CoalIndiaHQ @PMOIndia   \n",
       "\n",
       "                                   hashtags                   id  \\\n",
       "67321                    #COVID19 #lockdown  1244688404765270017   \n",
       "42859                                   NaN  1243919692013563904   \n",
       "125967  #GharBaithoIndia #IndiaFightsCorona  1246868523172810758   \n",
       "64665                                   NaN  1244623052777938945   \n",
       "95047                                   NaN  1245725547121917955   \n",
       "\n",
       "                                                permalink  \n",
       "67321   https://twitter.com/rajat_patni27/status/12446...  \n",
       "42859   https://twitter.com/iamvivekrk/status/12439196...  \n",
       "125967  https://twitter.com/sidnaazDilse/status/124686...  \n",
       "64665   https://twitter.com/Suhailxu/status/1244623052...  \n",
       "95047   https://twitter.com/sanjudu84045113/status/124...  "
      ]
     },
     "execution_count": 162,
     "metadata": {},
     "output_type": "execute_result"
    }
   ],
   "source": [
    "df.sample(5)"
   ]
  },
  {
   "cell_type": "markdown",
   "metadata": {},
   "source": [
    "## Save the dataframe as csv file"
   ]
  },
  {
   "cell_type": "code",
   "execution_count": 163,
   "metadata": {},
   "outputs": [],
   "source": [
    "df.to_csv(\"Processed Data\", sep='\\t', encoding='utf-8',index=False)  #To read the data use pd.read_csv(\"Processed Data\",sep='\\t')"
   ]
  }
 ],
 "metadata": {
  "kernelspec": {
   "display_name": "Python 3",
   "language": "python",
   "name": "python3"
  },
  "language_info": {
   "codemirror_mode": {
    "name": "ipython",
    "version": 3
   },
   "file_extension": ".py",
   "mimetype": "text/x-python",
   "name": "python",
   "nbconvert_exporter": "python",
   "pygments_lexer": "ipython3",
   "version": "3.8.3"
  }
 },
 "nbformat": 4,
 "nbformat_minor": 4
}
