{
 "cells": [
  {
   "cell_type": "code",
   "execution_count": 1,
   "metadata": {},
   "outputs": [],
   "source": [
    "# Import required libraries\n",
    "\n",
    "import GetOldTweets3 as got\n",
    "import datetime \n",
    "import time as ti\n",
    "import pickle\n",
    "import re\n",
    "from nltk.stem import WordNetLemmatizer \n",
    "from nltk.corpus import stopwords \n",
    "\n",
    "  \n",
    "stop_words = set(stopwords.words('english'))            # Set of English stopwords\n",
    "lemmatizer = WordNetLemmatizer()                        # To lemmatize the data\n",
    "\n",
    "model = pickle.load(open(\"Sentiment Predictor\", 'rb'))  # Import the sentiment predicting model\n"
   ]
  },
  {
   "cell_type": "code",
   "execution_count": 2,
   "metadata": {},
   "outputs": [],
   "source": [
    "def text_process(tweet):\n",
    "    \n",
    "    processed_tweet = [] # To store processed text\n",
    "    \n",
    "    tweet = tweet.lower() # Convert to lower case\n",
    "\n",
    "    tweet = re.sub(r'((www\\.[\\S]+)|(https?://[\\S]+))', 'URL', tweet) # Replaces any URLs with the word URL\n",
    "    \n",
    "    tweet = re.sub(r'@[\\S]+', 'USER_MENTION', tweet) # Replace @handle with the word USER_MENTION\n",
    "    \n",
    "    tweet = re.sub(r'#(\\S+)', r' \\1 ', tweet) # Removes # from hashtag\n",
    "    \n",
    "    tweet = re.sub(r'\\brt\\b', '', tweet) # Remove RT (retweet)\n",
    "    \n",
    "    tweet = re.sub(r'\\.{2,}', ' ', tweet) # Replace 2+ dots with space\n",
    "    \n",
    "    tweet = tweet.strip(' \"\\'') # Strip space, \" and ' from tweet\n",
    "    \n",
    "    tweet = re.sub(r'\\s+', ' ', tweet) # Replace multiple spaces with a single space\n",
    "    \n",
    "    words = tweet.split()\n",
    "    \n",
    "    for word in words:\n",
    "            \n",
    "        word = word.strip('\\'\"?!,.():;') # Remove Punctuations\n",
    "        \n",
    "        word = re.sub(r'(.)\\1+', r'\\1\\1', word) # Convert more than 2 letter repetitions to 2 letter (happppy -> happy)\n",
    "        \n",
    "        word = re.sub(r'(-|\\')', '', word) # Remove - & '\n",
    "        \n",
    "        if (re.search(r'^[a-zA-Z][a-z0-9A-Z\\._]*$', word) is not None): # Check if the word starts with an english letter\n",
    "            \n",
    "            if(word not in stop_words):                                 # Check if the word is a stopword.\n",
    "                \n",
    "                word = str(lemmatizer.lemmatize(word))                  # Lemmatize the word\n",
    "                \n",
    "                processed_tweet.append(word)\n",
    "                \n",
    "    return ' '.join(processed_tweet)"
   ]
  },
  {
   "cell_type": "code",
   "execution_count": 9,
   "metadata": {},
   "outputs": [
    {
     "name": "stdout",
     "output_type": "stream",
     "text": [
      "Date: 13-07-2020 Time: 11:23:33 Text: Corona stopped many Bill's including #freetemple &amp; #anticonversions &amp; #commoncivilcode &amp; #populationcontrolbill.hope soon these will pass in both Houses with full majority Sentiment: Neutral\n",
      "\n",
      "Date: 13-07-2020 Time: 11:23:20 Text: I see people shaking hands and hugging each other in movies now and think wow pre corona times Sentiment: Neutral\n",
      "\n",
      "Date: 13-07-2020 Time: 11:23:20 Text: I see people shaking hands and hugging each other in movies now and think wow pre corona times Sentiment: Neutral\n",
      "\n",
      "Date: 13-07-2020 Time: 11:23:18 Text: Hehe loved it...The answer for this question Eppudu vastundi is also a question Eppudu potundi ee Corona?  Sentiment: Positive\n",
      "\n",
      "Date: 13-07-2020 Time: 11:23:10 Text: Good ones don’t seize to come even in Corona times........... Surprised that Geh *lot* and Pi *lot* aren't getting along . . . They have a *LOT* in common  Sentiment: Positive\n",
      "\n",
      "Date: 13-07-2020 Time: 11:23:03 Text: Shit! I seriously read it as \"Corona\".... Dayyum  Sentiment: Negative\n",
      "\n"
     ]
    }
   ],
   "source": [
    "# Print the tweets and their sentiments continuously with an interval of 3 seconds per tweet\n",
    "\n",
    "\n",
    "while(True):\n",
    "    tweetCriteria = got.manager.TweetCriteria().setQuerySearch('corona')\\\n",
    "                                               .setNear(\"Nagpur,India\")\\\n",
    "                                               .setLang('en')\\\n",
    "                                               .setWithin(\"1500km\")\\\n",
    "                                               .setMaxTweets(5)  \n",
    "    \n",
    "    # Criteria for collecting corona related indian tweets\n",
    "\n",
    "    for tweets in range(5):\n",
    "\n",
    "        tweet = got.manager.TweetManager.getTweets(tweetCriteria)[tweets]\n",
    "\n",
    "        correct_time = tweet.date + datetime.timedelta(hours=5,minutes=30) # Convert time to IST\n",
    "        correct_time = correct_time.strftime(\"%d-%m-%Y %I:%M:%S\")\n",
    "\n",
    "        date,time = correct_time.split()\n",
    "\n",
    "        predict = model.predict([text_process(tweet.text)])                # Predict Sentiment Value\n",
    " \n",
    "        result = \"Positive\" if predict>0 else (\"Neutral\" if predict == 0 else \"Negative\")\n",
    "\n",
    "        print(\"Date: {} Time: {} Text: {} Sentiment: {}\\n\".format(date,time,tweet.text,result))\n",
    "\n",
    "        ti.sleep(3)  # Sleep for 3 seconds - As a rate limiter (Otherwise it will print continuously)\n"
   ]
  }
 ],
 "metadata": {
  "kernelspec": {
   "display_name": "Python 3",
   "language": "python",
   "name": "python3"
  },
  "language_info": {
   "codemirror_mode": {
    "name": "ipython",
    "version": 3
   },
   "file_extension": ".py",
   "mimetype": "text/x-python",
   "name": "python",
   "nbconvert_exporter": "python",
   "pygments_lexer": "ipython3",
   "version": "3.8.3"
  }
 },
 "nbformat": 4,
 "nbformat_minor": 4
}
